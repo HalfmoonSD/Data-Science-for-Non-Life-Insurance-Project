{
 "cells": [
  {
   "cell_type": "code",
   "execution_count": null,
   "metadata": {},
   "outputs": [],
   "source": [
    "def premium_calculator(agecar, sexp, fuelc, split, usec, fleetc, sportc, powerc, region, expo):\n",
    "    list_freq = [agecar, sexp, fuelc, split, usec, fleetc, sportc, powerc, region]\n",
    "    list_sev = [agecar, sexp, fuelc, split, usec, fleetc, sportc, powerc, region)]\n",
    "    freq_cal = freq_model.predict(list_freq)\n",
    "    severity_cal = sev_model.predict(list_sev)\n",
    "\n",
    "    pure_premium = freq_cal * severity_cal * expo\n",
    "    return pure_premium\n",
    "\n"
   ]
  },
  {
   "cell_type": "code",
   "execution_count": null,
   "metadata": {},
   "outputs": [],
   "source": [
    "premium"
   ]
  }
 ],
 "metadata": {
  "language_info": {
   "name": "python"
  }
 },
 "nbformat": 4,
 "nbformat_minor": 2
}
