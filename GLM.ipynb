{
 "cells": [
  {
   "cell_type": "code",
   "execution_count": 126,
   "metadata": {},
   "outputs": [],
   "source": [
    "import pandas as pd\n",
    "import numpy as np\n",
    "import seaborn as sns\n",
    "import matplotlib.pyplot as plt\n",
    "from sklearn.model_selection import train_test_split\n",
    "from sklearn.model_selection import RepeatedStratifiedKFold\n",
    "from sklearn.model_selection import KFold\n",
    "from sklearn.linear_model import LinearRegression\n",
    "import statsmodels.api as sm\n",
    "import statsmodels.formula.api as smf\n",
    "import rpy2.robjects as robjects\n",
    "from rpy2.robjects import pandas2ri\n",
    "from rpy2.robjects.packages import importr"
   ]
  },
  {
   "cell_type": "code",
   "execution_count": 68,
   "metadata": {},
   "outputs": [],
   "source": [
    "data = pd.read_csv('/Users/arthurrastelli/Desktop/DS/Assignment/Assignment.csv')\n",
    "KULbg =  \"#116E8A\""
   ]
  },
  {
   "cell_type": "code",
   "execution_count": 76,
   "metadata": {},
   "outputs": [
    {
     "name": "stdout",
     "output_type": "stream",
     "text": [
      "<class 'pandas.core.frame.DataFrame'>\n",
      "RangeIndex: 163657 entries, 0 to 163656\n",
      "Data columns (total 17 columns):\n",
      " #   Column    Non-Null Count   Dtype  \n",
      "---  ------    --------------   -----  \n",
      " 0   AGEPH     163657 non-null  int64  \n",
      " 1   CODPOSS   163657 non-null  int64  \n",
      " 2   expo      163657 non-null  float64\n",
      " 3   lnexpo    163657 non-null  float64\n",
      " 4   nclaims   163657 non-null  int64  \n",
      " 5   freq      163657 non-null  float64\n",
      " 6   chargtot  163657 non-null  float64\n",
      " 7   agecar    163657 non-null  object \n",
      " 8   sexp      163657 non-null  object \n",
      " 9   fuelc     163657 non-null  object \n",
      " 10  split     163657 non-null  object \n",
      " 11  usec      163657 non-null  object \n",
      " 12  fleetc    163657 non-null  object \n",
      " 13  sportc    163657 non-null  object \n",
      " 14  coverp    163657 non-null  object \n",
      " 15  powerc    163657 non-null  object \n",
      " 16  sev       18345 non-null   float64\n",
      "dtypes: float64(5), int64(3), object(9)\n",
      "memory usage: 21.2+ MB\n"
     ]
    }
   ],
   "source": [
    "# ADD A COLUMN FOR THE AVERAGE CLAIM FREQUENCY\n",
    "data[\"sev\"] = data['chargtot']/data['nclaims']\n",
    "data = data.rename(columns= {'duree': 'expo','nbrtotan': 'freq','nbrtotc': 'nclaims'})\n",
    "data.info()"
   ]
  },
  {
   "cell_type": "markdown",
   "metadata": {},
   "source": [
    "SUMMARY STATISTICS"
   ]
  },
  {
   "cell_type": "code",
   "execution_count": 77,
   "metadata": {},
   "outputs": [
    {
     "name": "stdout",
     "output_type": "stream",
     "text": [
      "Unexpected exception formatting exception. Falling back to standard exception\n"
     ]
    },
    {
     "name": "stderr",
     "output_type": "stream",
     "text": [
      "Traceback (most recent call last):\n",
      "  File \"/opt/anaconda3/lib/python3.11/site-packages/IPython/core/formatters.py\", line 223, in catch_format_error\n",
      "    r = method(self, *args, **kwargs)\n",
      "        ^^^^^^^^^^^^^^^^^^^^^^^^^^^^^\n",
      "  File \"/opt/anaconda3/lib/python3.11/site-packages/IPython/core/formatters.py\", line 344, in __call__\n",
      "    return method()\n",
      "           ^^^^^^^^\n",
      "  File \"/opt/anaconda3/lib/python3.11/site-packages/pandas/core/frame.py\", line 1106, in _repr_html_\n",
      "  File \"/opt/anaconda3/lib/python3.11/site-packages/pandas/io/formats/format.py\", line 1110, in to_html\n",
      "    When formatting an Index subclass\n",
      "             ^^^^^^^^^^^^^^^^^^^^^^^^^\n",
      "  File \"/opt/anaconda3/lib/python3.11/site-packages/pandas/io/formats/html.py\", line 88, in to_string\n",
      "    lines = self.render()\n",
      "            ^^^^^^^^^^^^^\n",
      "  File \"/opt/anaconda3/lib/python3.11/site-packages/pandas/io/formats/html.py\", line 644, in render\n",
      "    super().render()\n",
      "  File \"/opt/anaconda3/lib/python3.11/site-packages/pandas/io/formats/html.py\", line 94, in render\n",
      "    self._write_table()\n",
      "  File \"/opt/anaconda3/lib/python3.11/site-packages/pandas/io/formats/html.py\", line 267, in _write_table\n",
      "    self._write_header(indent + self.indent_delta)\n",
      "  File \"/opt/anaconda3/lib/python3.11/site-packages/pandas/io/formats/html.py\", line 403, in _write_header\n",
      "    self._write_col_header(indent + self.indent_delta)\n",
      "  File \"/opt/anaconda3/lib/python3.11/site-packages/pandas/io/formats/html.py\", line 383, in _write_col_header\n",
      "    row.extend(self._get_columns_formatted_values())\n",
      "               ^^^^^^^^^^^^^^^^^^^^^^^^^^^^^^^^^^^^\n",
      "  File \"/opt/anaconda3/lib/python3.11/site-packages/pandas/io/formats/html.py\", line 611, in _get_columns_formatted_values\n",
      "    return self.columns._format_flat(include_name=False)\n",
      "           ^^^^^^^^^^^^^^^^^^^^^^^^^\n",
      "AttributeError: 'Index' object has no attribute '_format_flat'\n",
      "\n",
      "During handling of the above exception, another exception occurred:\n",
      "\n",
      "Traceback (most recent call last):\n",
      "  File \"/opt/anaconda3/lib/python3.11/site-packages/IPython/core/interactiveshell.py\", line 2144, in showtraceback\n",
      "    stb = self.InteractiveTB.structured_traceback(\n",
      "          ^^^^^^^^^^^^^^^^^^^^^^^^^^^^^^^^^^^^^^^^\n",
      "  File \"/opt/anaconda3/lib/python3.11/site-packages/IPython/core/ultratb.py\", line 1435, in structured_traceback\n",
      "    return FormattedTB.structured_traceback(\n",
      "           ^^^^^^^^^^^^^^^^^^^^^^^^^^^^^^^^^\n",
      "  File \"/opt/anaconda3/lib/python3.11/site-packages/IPython/core/ultratb.py\", line 1326, in structured_traceback\n",
      "    return VerboseTB.structured_traceback(\n",
      "           ^^^^^^^^^^^^^^^^^^^^^^^^^^^^^^^\n",
      "  File \"/opt/anaconda3/lib/python3.11/site-packages/IPython/core/ultratb.py\", line 1173, in structured_traceback\n",
      "    formatted_exception = self.format_exception_as_a_whole(etype, evalue, etb, number_of_lines_of_context,\n",
      "                          ^^^^^^^^^^^^^^^^^^^^^^^^^^^^^^^^^^^^^^^^^^^^^^^^^^^^^^^^^^^^^^^^^^^^^^^^^^^^^^^^\n",
      "  File \"/opt/anaconda3/lib/python3.11/site-packages/IPython/core/ultratb.py\", line 1088, in format_exception_as_a_whole\n",
      "    frames.append(self.format_record(record))\n",
      "                  ^^^^^^^^^^^^^^^^^^^^^^^^^^\n",
      "  File \"/opt/anaconda3/lib/python3.11/site-packages/IPython/core/ultratb.py\", line 970, in format_record\n",
      "    frame_info.lines, Colors, self.has_colors, lvals\n",
      "    ^^^^^^^^^^^^^^^^\n",
      "  File \"/opt/anaconda3/lib/python3.11/site-packages/IPython/core/ultratb.py\", line 792, in lines\n",
      "    return self._sd.lines\n",
      "           ^^^^^^^^^^^^^^\n",
      "  File \"/opt/anaconda3/lib/python3.11/site-packages/stack_data/utils.py\", line 145, in cached_property_wrapper\n",
      "    value = obj.__dict__[self.func.__name__] = self.func(obj)\n",
      "                                               ^^^^^^^^^^^^^^\n",
      "  File \"/opt/anaconda3/lib/python3.11/site-packages/stack_data/core.py\", line 698, in lines\n",
      "    pieces = self.included_pieces\n",
      "             ^^^^^^^^^^^^^^^^^^^^\n",
      "  File \"/opt/anaconda3/lib/python3.11/site-packages/stack_data/utils.py\", line 145, in cached_property_wrapper\n",
      "    value = obj.__dict__[self.func.__name__] = self.func(obj)\n",
      "                                               ^^^^^^^^^^^^^^\n",
      "  File \"/opt/anaconda3/lib/python3.11/site-packages/stack_data/core.py\", line 649, in included_pieces\n",
      "    pos = scope_pieces.index(self.executing_piece)\n",
      "                             ^^^^^^^^^^^^^^^^^^^^\n",
      "  File \"/opt/anaconda3/lib/python3.11/site-packages/stack_data/utils.py\", line 145, in cached_property_wrapper\n",
      "    value = obj.__dict__[self.func.__name__] = self.func(obj)\n",
      "                                               ^^^^^^^^^^^^^^\n",
      "  File \"/opt/anaconda3/lib/python3.11/site-packages/stack_data/core.py\", line 628, in executing_piece\n",
      "    return only(\n",
      "           ^^^^^\n",
      "  File \"/opt/anaconda3/lib/python3.11/site-packages/executing/executing.py\", line 164, in only\n",
      "    raise NotOneValueFound('Expected one value, found 0')\n",
      "executing.executing.NotOneValueFound: Expected one value, found 0\n"
     ]
    },
    {
     "data": {
      "text/plain": [
       "   nclaims  tot_obs       tot_expo\n",
       "0        0   145312  128595.947945\n",
       "1        1    16602   15410.320548\n",
       "2        2     1562    1447.301370\n",
       "3        3      162     150.454795\n",
       "4        4       17      14.328767\n",
       "5        5        2       1.375342"
      ]
     },
     "execution_count": 77,
     "metadata": {},
     "output_type": "execute_result"
    }
   ],
   "source": [
    "# EMPIRICAL CLAIM FREQUENCY \n",
    "emp_freq=data.groupby(\"nclaims\").agg(tot_obs = ('nclaims', 'count'), tot_expo = ('expo', 'sum')).reset_index()\n",
    "emp_freq"
   ]
  },
  {
   "cell_type": "code",
   "execution_count": 78,
   "metadata": {},
   "outputs": [
    {
     "data": {
      "text/plain": [
       "1627.9955071032293"
      ]
     },
     "execution_count": 78,
     "metadata": {},
     "output_type": "execute_result"
    }
   ],
   "source": [
    "# MEAN SEVERITY\n",
    "# severity is the average amount per claim = amount / nclaims\n",
    "# We now calculate the average severity \n",
    "data['sev'].mean(skipna=True)"
   ]
  },
  {
   "cell_type": "markdown",
   "metadata": {},
   "source": [
    "GRAPHS"
   ]
  },
  {
   "cell_type": "code",
   "execution_count": 79,
   "metadata": {},
   "outputs": [
    {
     "data": {
      "image/png": "[encoded data removed]",
      "text/plain": [
       "<Figure size 1000x500 with 1 Axes>"
      ]
     },
     "metadata": {},
     "output_type": "display_data"
    }
   ],
   "source": [
    "plt.figure(figsize = (10, 5))\n",
    "sns.barplot(data = emp_freq, x = \"nclaims\", y = \"tot_expo\", color = KULbg, alpha = 0.5, edgecolor = 'black', linewidth = 1)\n",
    "plt.ylabel(\"Abs freq (in exposure)\")\n",
    "plt.xlabel(\"nclaims\")\n",
    "plt.title('Number of claims')\n",
    "plt.show()"
   ]
  },
  {
   "cell_type": "code",
   "execution_count": 80,
   "metadata": {},
   "outputs": [
    {
     "name": "stdout",
     "output_type": "stream",
     "text": [
      "Unexpected exception formatting exception. Falling back to standard exception\n"
     ]
    },
    {
     "name": "stderr",
     "output_type": "stream",
     "text": [
      "Traceback (most recent call last):\n",
      "  File \"/opt/anaconda3/lib/python3.11/site-packages/IPython/core/formatters.py\", line 223, in catch_format_error\n",
      "    r = method(self, *args, **kwargs)\n",
      "        ^^^^^^^^^^^^^^^^^^^^^^^^^^^^^\n",
      "  File \"/opt/anaconda3/lib/python3.11/site-packages/IPython/core/formatters.py\", line 344, in __call__\n",
      "    return method()\n",
      "           ^^^^^^^^\n",
      "  File \"/opt/anaconda3/lib/python3.11/site-packages/pandas/core/frame.py\", line 1106, in _repr_html_\n",
      "  File \"/opt/anaconda3/lib/python3.11/site-packages/pandas/io/formats/format.py\", line 1110, in to_html\n",
      "    When formatting an Index subclass\n",
      "             ^^^^^^^^^^^^^^^^^^^^^^^^^\n",
      "  File \"/opt/anaconda3/lib/python3.11/site-packages/pandas/io/formats/html.py\", line 88, in to_string\n",
      "    lines = self.render()\n",
      "            ^^^^^^^^^^^^^\n",
      "  File \"/opt/anaconda3/lib/python3.11/site-packages/pandas/io/formats/html.py\", line 644, in render\n",
      "    super().render()\n",
      "  File \"/opt/anaconda3/lib/python3.11/site-packages/pandas/io/formats/html.py\", line 94, in render\n",
      "    self._write_table()\n",
      "  File \"/opt/anaconda3/lib/python3.11/site-packages/pandas/io/formats/html.py\", line 267, in _write_table\n",
      "    self._write_header(indent + self.indent_delta)\n",
      "  File \"/opt/anaconda3/lib/python3.11/site-packages/pandas/io/formats/html.py\", line 403, in _write_header\n",
      "    self._write_col_header(indent + self.indent_delta)\n",
      "  File \"/opt/anaconda3/lib/python3.11/site-packages/pandas/io/formats/html.py\", line 383, in _write_col_header\n",
      "    row.extend(self._get_columns_formatted_values())\n",
      "               ^^^^^^^^^^^^^^^^^^^^^^^^^^^^^^^^^^^^\n",
      "  File \"/opt/anaconda3/lib/python3.11/site-packages/pandas/io/formats/html.py\", line 611, in _get_columns_formatted_values\n",
      "    return self.columns._format_flat(include_name=False)\n",
      "           ^^^^^^^^^^^^^^^^^^^^^^^^^\n",
      "AttributeError: 'Index' object has no attribute '_format_flat'\n",
      "\n",
      "During handling of the above exception, another exception occurred:\n",
      "\n",
      "Traceback (most recent call last):\n",
      "  File \"/opt/anaconda3/lib/python3.11/site-packages/IPython/core/interactiveshell.py\", line 2144, in showtraceback\n",
      "    stb = self.InteractiveTB.structured_traceback(\n",
      "          ^^^^^^^^^^^^^^^^^^^^^^^^^^^^^^^^^^^^^^^^\n",
      "  File \"/opt/anaconda3/lib/python3.11/site-packages/IPython/core/ultratb.py\", line 1435, in structured_traceback\n",
      "    return FormattedTB.structured_traceback(\n",
      "           ^^^^^^^^^^^^^^^^^^^^^^^^^^^^^^^^^\n",
      "  File \"/opt/anaconda3/lib/python3.11/site-packages/IPython/core/ultratb.py\", line 1326, in structured_traceback\n",
      "    return VerboseTB.structured_traceback(\n",
      "           ^^^^^^^^^^^^^^^^^^^^^^^^^^^^^^^\n",
      "  File \"/opt/anaconda3/lib/python3.11/site-packages/IPython/core/ultratb.py\", line 1173, in structured_traceback\n",
      "    formatted_exception = self.format_exception_as_a_whole(etype, evalue, etb, number_of_lines_of_context,\n",
      "                          ^^^^^^^^^^^^^^^^^^^^^^^^^^^^^^^^^^^^^^^^^^^^^^^^^^^^^^^^^^^^^^^^^^^^^^^^^^^^^^^^\n",
      "  File \"/opt/anaconda3/lib/python3.11/site-packages/IPython/core/ultratb.py\", line 1088, in format_exception_as_a_whole\n",
      "    frames.append(self.format_record(record))\n",
      "                  ^^^^^^^^^^^^^^^^^^^^^^^^^^\n",
      "  File \"/opt/anaconda3/lib/python3.11/site-packages/IPython/core/ultratb.py\", line 970, in format_record\n",
      "    frame_info.lines, Colors, self.has_colors, lvals\n",
      "    ^^^^^^^^^^^^^^^^\n",
      "  File \"/opt/anaconda3/lib/python3.11/site-packages/IPython/core/ultratb.py\", line 792, in lines\n",
      "    return self._sd.lines\n",
      "           ^^^^^^^^^^^^^^\n",
      "  File \"/opt/anaconda3/lib/python3.11/site-packages/stack_data/utils.py\", line 145, in cached_property_wrapper\n",
      "    value = obj.__dict__[self.func.__name__] = self.func(obj)\n",
      "                                               ^^^^^^^^^^^^^^\n",
      "  File \"/opt/anaconda3/lib/python3.11/site-packages/stack_data/core.py\", line 698, in lines\n",
      "    pieces = self.included_pieces\n",
      "             ^^^^^^^^^^^^^^^^^^^^\n",
      "  File \"/opt/anaconda3/lib/python3.11/site-packages/stack_data/utils.py\", line 145, in cached_property_wrapper\n",
      "    value = obj.__dict__[self.func.__name__] = self.func(obj)\n",
      "                                               ^^^^^^^^^^^^^^\n",
      "  File \"/opt/anaconda3/lib/python3.11/site-packages/stack_data/core.py\", line 649, in included_pieces\n",
      "    pos = scope_pieces.index(self.executing_piece)\n",
      "                             ^^^^^^^^^^^^^^^^^^^^\n",
      "  File \"/opt/anaconda3/lib/python3.11/site-packages/stack_data/utils.py\", line 145, in cached_property_wrapper\n",
      "    value = obj.__dict__[self.func.__name__] = self.func(obj)\n",
      "                                               ^^^^^^^^^^^^^^\n",
      "  File \"/opt/anaconda3/lib/python3.11/site-packages/stack_data/core.py\", line 628, in executing_piece\n",
      "    return only(\n",
      "           ^^^^^\n",
      "  File \"/opt/anaconda3/lib/python3.11/site-packages/executing/executing.py\", line 164, in only\n",
      "    raise NotOneValueFound('Expected one value, found 0')\n",
      "executing.executing.NotOneValueFound: Expected one value, found 0\n"
     ]
    },
    {
     "data": {
      "text/plain": [
       "    AGEPH  CODPOSS      expo    lnexpo  nclaims       freq     chargtot  \\\n",
       "1      28     1000  0.046575 -3.066684        1  21.470588   155.974606   \n",
       "12     72     1050  1.000000  0.000000        1   1.000000  1426.379342   \n",
       "15     28     1060  0.956164 -0.044825        2   2.091691  1576.354924   \n",
       "20     52     1070  0.452055 -0.793952        3   6.636364  8885.396345   \n",
       "22     56     1082  1.000000  0.000000        1   1.000000   619.733812   \n",
       "\n",
       "   agecar    sexp   fuelc    split     usec fleetc sportc   coverp  powerc  \\\n",
       "1    6-10  Female  Petrol    Twice  Private     No     No     MTPL  66-110   \n",
       "12    2-5  Female  Petrol     Once  Private     No     No  MTPL+++  66-110   \n",
       "15   6-10  Female  Petrol    Twice  Private     No     No     MTPL  66-110   \n",
       "20   6-10  Female  Petrol  Monthly  Private     No    Yes     MTPL    >110   \n",
       "22    0-1  Female  Petrol     Once  Private     No     No    MTPL+  66-110   \n",
       "\n",
       "            sev  \n",
       "1    155.974606  \n",
       "12  1426.379342  \n",
       "15   788.177462  \n",
       "20  2961.798782  \n",
       "22   619.733812  "
      ]
     },
     "execution_count": 80,
     "metadata": {},
     "output_type": "execute_result"
    }
   ],
   "source": [
    "pos_sev = data[data['sev']>0]\n",
    "pos_sev.head()"
   ]
  },
  {
   "cell_type": "code",
   "execution_count": 82,
   "metadata": {},
   "outputs": [
    {
     "data": {
      "image/png": "[encoded data removed]",
      "text/plain": [
       "<Figure size 1000x500 with 1 Axes>"
      ]
     },
     "metadata": {},
     "output_type": "display_data"
    }
   ],
   "source": [
    "plt.figure(figsize = (10,5))\n",
    "sns.histplot(data = pos_sev, x = \"sev\", stat = 'count', color = KULbg, alpha = 0.5, bins = 50, binrange = [0, 20000], edgecolor = 'black', linewidth = 1)\n",
    "plt.xlabel(\"Claim severity\")\n",
    "plt.xlim(0, 20000)\n",
    "plt.show()\"r\" "
   ]
  },
  {
   "cell_type": "markdown",
   "metadata": {},
   "source": [
    "GENERALIZED LINEAR MODEL IN PYTHON"
   ]
  },
  {
   "cell_type": "code",
   "execution_count": null,
   "metadata": {},
   "outputs": [],
   "source": []
  }
 ],
 "metadata": {
  "kernelspec": {
   "display_name": "base",
   "language": "python",
   "name": "python3"
  },
  "language_info": {
   "codemirror_mode": {
    "name": "ipython",
    "version": 3
   },
   "file_extension": ".py",
   "mimetype": "text/x-python",
   "name": "python",
   "nbconvert_exporter": "python",
   "pygments_lexer": "ipython3",
   "version": "3.11.7"
  }
 },
 "nbformat": 4,
 "nbformat_minor": 2
}
