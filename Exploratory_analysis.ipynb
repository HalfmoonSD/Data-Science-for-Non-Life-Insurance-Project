{
 "cells": [
  {
   "cell_type": "code",
   "execution_count": 2,
   "metadata": {},
   "outputs": [],
   "source": [
    "# import packages\n",
    "import pandas as pd\n",
    "import numpy as np\n",
    "import matplotlib.pyplot as plt\n",
    "import seaborn as sns\n",
    "from sklearn.model_selection import train_test_split\n",
    "from sklearn.model_selection import RepeatedStratifiedKFold\n",
    "from sklearn.model_selection import KFold\n",
    "from sklearn.linear_model import LinearRegression"
   ]
  },
  {
   "cell_type": "code",
   "execution_count": 3,
   "metadata": {},
   "outputs": [
    {
     "data": {
      "text/html": [
       "<div>\n",
       "<style scoped>\n",
       "    .dataframe tbody tr th:only-of-type {\n",
       "        vertical-align: middle;\n",
       "    }\n",
       "\n",
       "    .dataframe tbody tr th {\n",
       "        vertical-align: top;\n",
       "    }\n",
       "\n",
       "    .dataframe thead th {\n",
       "        text-align: right;\n",
       "    }\n",
       "</style>\n",
       "<table border=\"1\" class=\"dataframe\">\n",
       "  <thead>\n",
       "    <tr style=\"text-align: right;\">\n",
       "      <th></th>\n",
       "      <th>AGEPH</th>\n",
       "      <th>CODPOSS</th>\n",
       "      <th>duree</th>\n",
       "      <th>lnexpo</th>\n",
       "      <th>nbrtotc</th>\n",
       "      <th>nbrtotan</th>\n",
       "      <th>chargtot</th>\n",
       "      <th>agecar</th>\n",
       "      <th>sexp</th>\n",
       "      <th>fuelc</th>\n",
       "      <th>split</th>\n",
       "      <th>usec</th>\n",
       "      <th>fleetc</th>\n",
       "      <th>sportc</th>\n",
       "      <th>coverp</th>\n",
       "      <th>powerc</th>\n",
       "    </tr>\n",
       "  </thead>\n",
       "  <tbody>\n",
       "    <tr>\n",
       "      <th>0</th>\n",
       "      <td>64</td>\n",
       "      <td>1000</td>\n",
       "      <td>1.000000</td>\n",
       "      <td>0.000000</td>\n",
       "      <td>0</td>\n",
       "      <td>0.000000</td>\n",
       "      <td>0.000000</td>\n",
       "      <td>2-5</td>\n",
       "      <td>Female</td>\n",
       "      <td>Petrol</td>\n",
       "      <td>Once</td>\n",
       "      <td>Private</td>\n",
       "      <td>No</td>\n",
       "      <td>No</td>\n",
       "      <td>MTPL+</td>\n",
       "      <td>66-110</td>\n",
       "    </tr>\n",
       "    <tr>\n",
       "      <th>1</th>\n",
       "      <td>28</td>\n",
       "      <td>1000</td>\n",
       "      <td>0.046575</td>\n",
       "      <td>-3.066684</td>\n",
       "      <td>1</td>\n",
       "      <td>21.470588</td>\n",
       "      <td>155.974606</td>\n",
       "      <td>6-10</td>\n",
       "      <td>Female</td>\n",
       "      <td>Petrol</td>\n",
       "      <td>Twice</td>\n",
       "      <td>Private</td>\n",
       "      <td>No</td>\n",
       "      <td>No</td>\n",
       "      <td>MTPL</td>\n",
       "      <td>66-110</td>\n",
       "    </tr>\n",
       "    <tr>\n",
       "      <th>2</th>\n",
       "      <td>58</td>\n",
       "      <td>1000</td>\n",
       "      <td>0.402740</td>\n",
       "      <td>-0.909465</td>\n",
       "      <td>0</td>\n",
       "      <td>0.000000</td>\n",
       "      <td>0.000000</td>\n",
       "      <td>&gt;10</td>\n",
       "      <td>Female</td>\n",
       "      <td>Petrol</td>\n",
       "      <td>Thrice</td>\n",
       "      <td>Private</td>\n",
       "      <td>No</td>\n",
       "      <td>No</td>\n",
       "      <td>MTPL</td>\n",
       "      <td>&lt;66</td>\n",
       "    </tr>\n",
       "    <tr>\n",
       "      <th>3</th>\n",
       "      <td>37</td>\n",
       "      <td>1030</td>\n",
       "      <td>0.169863</td>\n",
       "      <td>-1.772763</td>\n",
       "      <td>0</td>\n",
       "      <td>0.000000</td>\n",
       "      <td>0.000000</td>\n",
       "      <td>2-5</td>\n",
       "      <td>Female</td>\n",
       "      <td>Petrol</td>\n",
       "      <td>Once</td>\n",
       "      <td>Professional</td>\n",
       "      <td>No</td>\n",
       "      <td>No</td>\n",
       "      <td>MTPL+++</td>\n",
       "      <td>66-110</td>\n",
       "    </tr>\n",
       "    <tr>\n",
       "      <th>4</th>\n",
       "      <td>29</td>\n",
       "      <td>1030</td>\n",
       "      <td>1.000000</td>\n",
       "      <td>0.000000</td>\n",
       "      <td>0</td>\n",
       "      <td>0.000000</td>\n",
       "      <td>0.000000</td>\n",
       "      <td>6-10</td>\n",
       "      <td>Female</td>\n",
       "      <td>Petrol</td>\n",
       "      <td>Once</td>\n",
       "      <td>Private</td>\n",
       "      <td>No</td>\n",
       "      <td>No</td>\n",
       "      <td>MTPL+</td>\n",
       "      <td>&lt;66</td>\n",
       "    </tr>\n",
       "  </tbody>\n",
       "</table>\n",
       "</div>"
      ],
      "text/plain": [
       "   AGEPH  CODPOSS     duree    lnexpo  nbrtotc   nbrtotan    chargtot agecar  \\\n",
       "0     64     1000  1.000000  0.000000        0   0.000000    0.000000    2-5   \n",
       "1     28     1000  0.046575 -3.066684        1  21.470588  155.974606   6-10   \n",
       "2     58     1000  0.402740 -0.909465        0   0.000000    0.000000    >10   \n",
       "3     37     1030  0.169863 -1.772763        0   0.000000    0.000000    2-5   \n",
       "4     29     1030  1.000000  0.000000        0   0.000000    0.000000   6-10   \n",
       "\n",
       "     sexp   fuelc   split          usec fleetc sportc   coverp  powerc  \n",
       "0  Female  Petrol    Once       Private     No     No    MTPL+  66-110  \n",
       "1  Female  Petrol   Twice       Private     No     No     MTPL  66-110  \n",
       "2  Female  Petrol  Thrice       Private     No     No     MTPL     <66  \n",
       "3  Female  Petrol    Once  Professional     No     No  MTPL+++  66-110  \n",
       "4  Female  Petrol    Once       Private     No     No    MTPL+     <66  "
      ]
     },
     "execution_count": 3,
     "metadata": {},
     "output_type": "execute_result"
    }
   ],
   "source": [
    "# import data \n",
    "df = pd.read_csv('/Users/arthurrastelli/Desktop/DS/Assignment/Assignment.csv')\n",
    "df.head()"
   ]
  },
  {
   "cell_type": "code",
   "execution_count": 4,
   "metadata": {},
   "outputs": [
    {
     "name": "stdout",
     "output_type": "stream",
     "text": [
      "<class 'pandas.core.frame.DataFrame'>\n",
      "RangeIndex: 163657 entries, 0 to 163656\n",
      "Data columns (total 16 columns):\n",
      " #   Column    Non-Null Count   Dtype  \n",
      "---  ------    --------------   -----  \n",
      " 0   AGEPH     163657 non-null  int64  \n",
      " 1   CODPOSS   163657 non-null  int64  \n",
      " 2   duree     163657 non-null  float64\n",
      " 3   lnexpo    163657 non-null  float64\n",
      " 4   nbrtotc   163657 non-null  int64  \n",
      " 5   nbrtotan  163657 non-null  float64\n",
      " 6   chargtot  163657 non-null  float64\n",
      " 7   agecar    163657 non-null  object \n",
      " 8   sexp      163657 non-null  object \n",
      " 9   fuelc     163657 non-null  object \n",
      " 10  split     163657 non-null  object \n",
      " 11  usec      163657 non-null  object \n",
      " 12  fleetc    163657 non-null  object \n",
      " 13  sportc    163657 non-null  object \n",
      " 14  coverp    163657 non-null  object \n",
      " 15  powerc    163657 non-null  object \n",
      "dtypes: float64(4), int64(3), object(9)\n",
      "memory usage: 20.0+ MB\n",
      "None\n"
     ]
    }
   ],
   "source": [
    "print(df.info())"
   ]
  },
  {
   "cell_type": "markdown",
   "metadata": {},
   "source": [
    "CHANGE THE CODPOSS VARIABLE INTO A CATEGORICAL VARIABLE"
   ]
  },
  {
   "cell_type": "code",
   "execution_count": 5,
   "metadata": {},
   "outputs": [],
   "source": [
    "df['CODPOSS'] = df['CODPOSS'].astype('category')"
   ]
  },
  {
   "cell_type": "markdown",
   "metadata": {},
   "source": [
    "FUNCTIONS FOR HISTOGRAMS, BARPLOTS and SCATTERPLOTS  (pay attention to the inputs)"
   ]
  },
  {
   "cell_type": "code",
   "execution_count": 6,
   "metadata": {},
   "outputs": [],
   "source": [
    "def histogram(df, variable,binwidth, relative):\n",
    "    if relative==False:\n",
    "        return sns.histplot(data=df, x=variable,binwidth=binwidth, color = 'lightblue')\n",
    "    elif relative ==True: \n",
    "        return sns.histplot(data=df, x=variable,binwidth=binwidth, stat='probability', color = 'lightblue')"
   ]
  },
  {
   "cell_type": "code",
   "execution_count": 7,
   "metadata": {},
   "outputs": [],
   "source": [
    "def barplot(df, x, relative):\n",
    "    frequency_counts = df[x].value_counts().reset_index()\n",
    "    frequency_counts.columns = [x, 'absolute']\n",
    "    frequency_counts['relative'] =frequency_counts['absolute'] / frequency_counts['absolute'].sum()\n",
    "\n",
    "    if relative==False:\n",
    "        return sns.barplot(data=frequency_counts, x=x,y='absolute', color = 'lightblue')\n",
    "    elif relative==True:\n",
    "        sns.barplot(data=frequency_counts, x=x,y='relative', color = 'lightblue')"
   ]
  },
  {
   "cell_type": "code",
   "execution_count": 8,
   "metadata": {},
   "outputs": [],
   "source": [
    "def scattterplot(df, x, y):\n",
    "    return sns.scatterplot(df, x, y)"
   ]
  },
  {
   "cell_type": "markdown",
   "metadata": {},
   "source": [
    "FUNCTION FOR THE MINIMUM AND MAXIMUM VALUE"
   ]
  },
  {
   "cell_type": "code",
   "execution_count": 9,
   "metadata": {},
   "outputs": [],
   "source": [
    "def minmax(df,x):\n",
    "    return min(df[x]), max(df[x])"
   ]
  },
  {
   "cell_type": "markdown",
   "metadata": {},
   "source": [
    "FUNCTION FOR TOTAL CLAIMS, EXPOSURE AND AMOUNTS PER CATEGORY OF THE VARIABLES"
   ]
  },
  {
   "cell_type": "code",
   "execution_count": 68,
   "metadata": {},
   "outputs": [],
   "source": [
    "def aggregation(df,x):\n",
    "    grouped = df.groupby(x).agg({\n",
    "        'nbrtotc': 'sum',\n",
    "        'duree': 'sum',        \n",
    "        'chargtot': 'sum'})     \n",
    "    grouped = grouped.rename(columns={\n",
    "        'nbrtotc': 'Total Claims',\n",
    "        'duree': 'Total Exposure',\n",
    "        'chargtot': 'Claim Amount'})\n",
    "    \n",
    "    counts = pd.DataFrame(df[x].value_counts().reset_index())\n",
    "    counts = counts.rename(columns={'index':x, x: 'absolute freq'})\n",
    "    counts['relative freq'] = counts['absolute freq']/counts['absolute freq'].sum()\n",
    "\n",
    "    return pd.merge(grouped,counts,on=x)"
   ]
  },
  {
   "cell_type": "markdown",
   "metadata": {},
   "source": [
    "EXPLORING THE VARIABLES\n",
    "- Change the variables in the functions (second argument)\n",
    "- See what graph is the most interestin for the data type"
   ]
  },
  {
   "cell_type": "markdown",
   "metadata": {},
   "source": [
    "1.1 AGEPH"
   ]
  },
  {
   "cell_type": "code",
   "execution_count": 11,
   "metadata": {},
   "outputs": [
    {
     "data": {
      "text/plain": [
       "Text(0, 0.5, 'frequency')"
      ]
     },
     "execution_count": 11,
     "metadata": {},
     "output_type": "execute_result"
    },
    {
     "data": {
      "image/png": "[encoded data removed]",
      "text/plain": [
       "<Figure size 640x480 with 1 Axes>"
      ]
     },
     "metadata": {},
     "output_type": "display_data"
    }
   ],
   "source": [
    "histogram(df, \"AGEPH\",binwidth=2,relative=True)\n",
    "plt.xlabel('age')\n",
    "plt.ylabel('frequency')"
   ]
  },
  {
   "cell_type": "markdown",
   "metadata": {},
   "source": [
    "1.2 CODPOSS"
   ]
  },
  {
   "cell_type": "code",
   "execution_count": null,
   "metadata": {},
   "outputs": [],
   "source": [
    "aggregation(df,'CODPOSS')\n",
    "sorted_CODPOSS = aggregation(df,'CODPOSS').sort_values(by='Total Claims',ascending=False).reset_index()\n",
    "sorted_CODPOSS"
   ]
  },
  {
   "cell_type": "code",
   "execution_count": null,
   "metadata": {},
   "outputs": [],
   "source": [
    "top_CODPOSS = sorted_CODPOSS.head(5)\n",
    "top_CODPOSS"
   ]
  },
  {
   "cell_type": "markdown",
   "metadata": {},
   "source": [
    "1.3 CATEGORICAL VARIABLES"
   ]
  },
  {
   "cell_type": "code",
   "execution_count": 66,
   "metadata": {},
   "outputs": [
    {
     "name": "stdout",
     "output_type": "stream",
     "text": [
      "  agecar  Total Claims  Total Exposure  Claim Amount  absolute freq  \\\n",
      "0    0-1          1115     6570.191781  1.975692e+06           7766   \n",
      "1    2-5          6029    46189.060274  8.671438e+06          51559   \n",
      "2   6-10          8453    60555.106849  1.328777e+07          67151   \n",
      "3    >10          4693    32305.369863  8.976585e+06          37181   \n",
      "\n",
      "   relative freq  \n",
      "0       0.047453  \n",
      "1       0.315043  \n",
      "2       0.410315  \n",
      "3       0.227189  \n",
      "     sexp  Total Claims  Total Exposure  Claim Amount  absolute freq  \\\n",
      "0  Female          5640    38001.589041  1.085424e+07          43223   \n",
      "1    Male         14650   107618.139726  2.205724e+07         120434   \n",
      "\n",
      "   relative freq  \n",
      "0       0.264107  \n",
      "1       0.735893  \n",
      "    fuelc  Total Claims  Total Exposure  Claim Amount  absolute freq  \\\n",
      "0  Gasoil          7040    44613.397260  1.008824e+07          50447   \n",
      "1  Petrol         13250   101006.331507  2.282324e+07         113210   \n",
      "\n",
      "   relative freq  \n",
      "0       0.308248  \n",
      "1       0.691752  \n",
      "     split  Total Claims  Total Exposure  Claim Amount  absolute freq  \\\n",
      "0  Monthly          3100    17446.791781  6.590658e+06          23599   \n",
      "1     Once          8818    75070.876712  1.474234e+07          81479   \n",
      "2   Thrice          2207    11105.052055  3.479737e+06          12618   \n",
      "3    Twice          6165    41997.008219  8.098743e+06          45961   \n",
      "\n",
      "   relative freq  \n",
      "0       0.144198  \n",
      "1       0.497864  \n",
      "2       0.077100  \n",
      "3       0.280837  \n",
      "           usec  Total Claims  Total Exposure  Claim Amount  absolute freq  \\\n",
      "0       Private         19290   138394.630137  3.146557e+07         155652   \n",
      "1  Professional          1000     7225.098630  1.445910e+06           8005   \n",
      "\n",
      "   relative freq  \n",
      "0       0.951087  \n",
      "1       0.048913  \n",
      "  fleetc  Total Claims  Total Exposure  Claim Amount  absolute freq  \\\n",
      "0     No         19728   140611.580822  3.220790e+07         158428   \n",
      "1    Yes           562     5008.147945  7.035867e+05           5229   \n",
      "\n",
      "   relative freq  \n",
      "0       0.968049  \n",
      "1       0.031951  \n",
      "  sportc  Total Claims  Total Exposure  Claim Amount  absolute freq  \\\n",
      "0     No         20061   144294.778082  3.255415e+07         162145   \n",
      "1    Yes           229     1324.950685  3.573275e+05           1512   \n",
      "\n",
      "   relative freq  \n",
      "0       0.990761  \n",
      "1       0.009239  \n",
      "    coverp  Total Claims  Total Exposure  Claim Amount  absolute freq  \\\n",
      "0     MTPL         12261    84012.597260  2.111275e+07          95409   \n",
      "1    MTPL+          5342    41759.449315  6.867398e+06          46073   \n",
      "2  MTPL+++          2687    19847.682192  4.931330e+06          22175   \n",
      "\n",
      "   relative freq  \n",
      "0       0.582981  \n",
      "1       0.281522  \n",
      "2       0.135497  \n",
      "   powerc  Total Claims  Total Exposure  Claim Amount  absolute freq  \\\n",
      "0  66-110          5361    37340.164384  9.050775e+06          42188   \n",
      "1     <66         14700   106846.843836  2.332403e+07         119809   \n",
      "2    >110           229     1432.720548  5.366778e+05           1660   \n",
      "\n",
      "   relative freq  \n",
      "0       0.257783  \n",
      "1       0.732074  \n",
      "2       0.010143  \n"
     ]
    },
    {
     "data": {
      "image/png": "[encoded data removed]",
      "text/plain": [
       "<Figure size 640x480 with 9 Axes>"
      ]
     },
     "metadata": {},
     "output_type": "display_data"
    }
   ],
   "source": [
    "agecar = aggregation(df,'agecar')\n",
    "print(agecar)\n",
    "plt.subplot(3,3,1)\n",
    "plt.bar(agecar['agecar'],agecar['relative freq'], color = 'lightblue')\n",
    "plt.title('agecar')\n",
    "\n",
    "sexp = aggregation(df,'sexp')\n",
    "print(sexp)\n",
    "plt.subplot(3,3,2)\n",
    "plt.bar(sexp['sexp'],sexp['relative freq'], color = 'lightblue')\n",
    "plt.title('sexp')\n",
    "\n",
    "fuelc = aggregation(df,'fuelc')\n",
    "print(fuelc)\n",
    "plt.subplot(3,3,3)\n",
    "plt.bar(fuelc['fuelc'],fuelc['relative freq'], color = 'lightblue')\n",
    "plt.title('fuelc')\n",
    "\n",
    "split = aggregation(df,'split')\n",
    "print(split)\n",
    "plt.subplot(3,3,4)\n",
    "plt.bar(split['split'],split['relative freq'], color = 'lightblue')\n",
    "plt.title('split')\n",
    "\n",
    "usec = aggregation(df,'usec')\n",
    "print(usec)\n",
    "plt.subplot(3,3,5)\n",
    "plt.bar(usec['usec'],usec['relative freq'], color = 'lightblue')\n",
    "plt.title('usec')\n",
    "\n",
    "fleetc = aggregation(df,'fleetc')\n",
    "print(fleetc)\n",
    "plt.subplot(3,3,6)\n",
    "plt.bar(fleetc['fleetc'],fleetc['relative freq'], color = 'lightblue')\n",
    "plt.title('fleetc')\n",
    "\n",
    "sportc = aggregation(df,'sportc')\n",
    "print(sportc)\n",
    "plt.subplot(3,3,7)\n",
    "plt.bar(sportc['sportc'],sportc['relative freq'], color = 'lightblue')\n",
    "plt.title('sportc')\n",
    "\n",
    "coverp = aggregation(df,'coverp')\n",
    "print(coverp)\n",
    "plt.subplot(3,3,8)\n",
    "plt.bar(coverp['coverp'],coverp['relative freq'], color = 'lightblue')\n",
    "plt.title('coverp')\n",
    "\n",
    "powerc = aggregation(df,'powerc')\n",
    "print(powerc)\n",
    "plt.subplot(3,3,9)\n",
    "plt.bar(powerc['powerc'],powerc['relative freq'], color = 'lightblue')\n",
    "plt.title('powerc')\n",
    "\n",
    "plt.tight_layout()\n",
    "plt.show()"
   ]
  },
  {
   "cell_type": "code",
   "execution_count": 67,
   "metadata": {},
   "outputs": [
    {
     "name": "stdout",
     "output_type": "stream",
     "text": [
      "  agecar  Total Claims  Total Exposure  Claim Amount  absolute freq  \\\n",
      "0    0-1          1115     6570.191781  1.975692e+06           7766   \n",
      "1    2-5          6029    46189.060274  8.671438e+06          51559   \n",
      "2   6-10          8453    60555.106849  1.328777e+07          67151   \n",
      "3    >10          4693    32305.369863  8.976585e+06          37181   \n",
      "\n",
      "   relative freq  \n",
      "0       0.047453  \n",
      "1       0.315043  \n",
      "2       0.410315  \n",
      "3       0.227189  \n",
      "     sexp  Total Claims  Total Exposure  Claim Amount  absolute freq  \\\n",
      "0  Female          5640    38001.589041  1.085424e+07          43223   \n",
      "1    Male         14650   107618.139726  2.205724e+07         120434   \n",
      "\n",
      "   relative freq  \n",
      "0       0.264107  \n",
      "1       0.735893  \n",
      "    fuelc  Total Claims  Total Exposure  Claim Amount  absolute freq  \\\n",
      "0  Gasoil          7040    44613.397260  1.008824e+07          50447   \n",
      "1  Petrol         13250   101006.331507  2.282324e+07         113210   \n",
      "\n",
      "   relative freq  \n",
      "0       0.308248  \n",
      "1       0.691752  \n",
      "     split  Total Claims  Total Exposure  Claim Amount  absolute freq  \\\n",
      "0  Monthly          3100    17446.791781  6.590658e+06          23599   \n",
      "1     Once          8818    75070.876712  1.474234e+07          81479   \n",
      "2   Thrice          2207    11105.052055  3.479737e+06          12618   \n",
      "3    Twice          6165    41997.008219  8.098743e+06          45961   \n",
      "\n",
      "   relative freq  \n",
      "0       0.144198  \n",
      "1       0.497864  \n",
      "2       0.077100  \n",
      "3       0.280837  \n",
      "           usec  Total Claims  Total Exposure  Claim Amount  absolute freq  \\\n",
      "0       Private         19290   138394.630137  3.146557e+07         155652   \n",
      "1  Professional          1000     7225.098630  1.445910e+06           8005   \n",
      "\n",
      "   relative freq  \n",
      "0       0.951087  \n",
      "1       0.048913  \n",
      "  fleetc  Total Claims  Total Exposure  Claim Amount  absolute freq  \\\n",
      "0     No         19728   140611.580822  3.220790e+07         158428   \n",
      "1    Yes           562     5008.147945  7.035867e+05           5229   \n",
      "\n",
      "   relative freq  \n",
      "0       0.968049  \n",
      "1       0.031951  \n",
      "  sportc  Total Claims  Total Exposure  Claim Amount  absolute freq  \\\n",
      "0     No         20061   144294.778082  3.255415e+07         162145   \n",
      "1    Yes           229     1324.950685  3.573275e+05           1512   \n",
      "\n",
      "   relative freq  \n",
      "0       0.990761  \n",
      "1       0.009239  \n",
      "    coverp  Total Claims  Total Exposure  Claim Amount  absolute freq  \\\n",
      "0     MTPL         12261    84012.597260  2.111275e+07          95409   \n",
      "1    MTPL+          5342    41759.449315  6.867398e+06          46073   \n",
      "2  MTPL+++          2687    19847.682192  4.931330e+06          22175   \n",
      "\n",
      "   relative freq  \n",
      "0       0.582981  \n",
      "1       0.281522  \n",
      "2       0.135497  \n",
      "   powerc  Total Claims  Total Exposure  Claim Amount  absolute freq  \\\n",
      "0  66-110          5361    37340.164384  9.050775e+06          42188   \n",
      "1     <66         14700   106846.843836  2.332403e+07         119809   \n",
      "2    >110           229     1432.720548  5.366778e+05           1660   \n",
      "\n",
      "   relative freq  \n",
      "0       0.257783  \n",
      "1       0.732074  \n",
      "2       0.010143  \n"
     ]
    },
    {
     "data": {
      "image/png": "[encoded data removed]",
      "text/plain": [
       "<Figure size 640x480 with 9 Axes>"
      ]
     },
     "metadata": {},
     "output_type": "display_data"
    }
   ],
   "source": [
    "agecar = aggregation(df,'agecar')\n",
    "print(agecar)\n",
    "plt.subplot(3,3,1)\n",
    "plt.bar(agecar['agecar'],agecar['Total Claims'], color = 'lightblue')\n",
    "plt.title('agecar')\n",
    "\n",
    "sexp = aggregation(df,'sexp')\n",
    "print(sexp)\n",
    "plt.subplot(3,3,2)\n",
    "plt.bar(sexp['sexp'],sexp['Total Claims'], color = 'lightblue')\n",
    "plt.title('sexp')\n",
    "\n",
    "fuelc = aggregation(df,'fuelc')\n",
    "print(fuelc)\n",
    "plt.subplot(3,3,3)\n",
    "plt.bar(fuelc['fuelc'],fuelc['Total Claims'], color = 'lightblue')\n",
    "plt.title('fuelc')\n",
    "\n",
    "split = aggregation(df,'split')\n",
    "print(split)\n",
    "plt.subplot(3,3,4)\n",
    "plt.bar(split['split'],split['Total Claims'], color = 'lightblue')\n",
    "plt.title('split')\n",
    "\n",
    "usec = aggregation(df,'usec')\n",
    "print(usec)\n",
    "plt.subplot(3,3,5)\n",
    "plt.bar(usec['usec'],usec['Total Claims'], color = 'lightblue')\n",
    "plt.title('usec')\n",
    "\n",
    "fleetc = aggregation(df,'fleetc')\n",
    "print(fleetc)\n",
    "plt.subplot(3,3,6)\n",
    "plt.bar(fleetc['fleetc'],fleetc['Total Claims'], color = 'lightblue')\n",
    "plt.title('fleetc')\n",
    "\n",
    "sportc = aggregation(df,'sportc')\n",
    "print(sportc)\n",
    "plt.subplot(3,3,7)\n",
    "plt.bar(sportc['sportc'],sportc['Total Claims'], color = 'lightblue')\n",
    "plt.title('sportc')\n",
    "\n",
    "coverp = aggregation(df,'coverp')\n",
    "print(coverp)\n",
    "plt.subplot(3,3,8)\n",
    "plt.bar(coverp['coverp'],coverp['Total Claims'], color = 'lightblue')\n",
    "plt.title('coverp')\n",
    "\n",
    "powerc = aggregation(df,'powerc')\n",
    "print(powerc)\n",
    "plt.subplot(3,3,9)\n",
    "plt.bar(powerc['powerc'],powerc['Total Claims'], color = 'lightblue')\n",
    "plt.title('powerc')\n",
    "\n",
    "plt.tight_layout()\n",
    "plt.show()"
   ]
  }
 ],
 "metadata": {
  "kernelspec": {
   "display_name": "base",
   "language": "python",
   "name": "python3"
  },
  "language_info": {
   "codemirror_mode": {
    "name": "ipython",
    "version": 3
   },
   "file_extension": ".py",
   "mimetype": "text/x-python",
   "name": "python",
   "nbconvert_exporter": "python",
   "pygments_lexer": "ipython3",
   "version": "3.11.7"
  }
 },
 "nbformat": 4,
 "nbformat_minor": 2
}
